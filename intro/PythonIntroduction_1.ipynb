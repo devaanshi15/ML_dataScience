{
  "nbformat": 4,
  "nbformat_minor": 0,
  "metadata": {
    "colab": {
      "provenance": []
    },
    "kernelspec": {
      "name": "python3",
      "display_name": "Python 3"
    },
    "language_info": {
      "name": "python"
    }
  },
  "cells": [
    {
      "cell_type": "markdown",
      "source": [
        "**Python Introduction**\n",
        "  * Variables & Values\n",
        "  * Data Types\n",
        "  * Operators\n",
        "  * Conditional Programming\n",
        "  * Loop - for / while\n",
        "  * Functions"
      ],
      "metadata": {
        "id": "4jqqWC-cZS9z"
      }
    },
    {
      "cell_type": "code",
      "execution_count": null,
      "metadata": {
        "id": "Tz8IIsOEY1Bi"
      },
      "outputs": [],
      "source": [
        "name = \"Bipul\"\n",
        "age = 44\n",
        "salary = 65.8"
      ]
    },
    {
      "cell_type": "code",
      "source": [
        "print(name)\n",
        "print(\"Name of Data Science Instructor\", name)"
      ],
      "metadata": {
        "colab": {
          "base_uri": "https://localhost:8080/"
        },
        "id": "Se8HYbYWZ4rn",
        "outputId": "d46d1d96-9a28-4b31-c872-e4ecc0f159c1"
      },
      "execution_count": null,
      "outputs": [
        {
          "output_type": "stream",
          "name": "stdout",
          "text": [
            "Bipul\n",
            "Name of Data Science Instructor Bipul\n"
          ]
        }
      ]
    },
    {
      "cell_type": "code",
      "source": [
        "print(name , type(name))\n",
        "print(age , type(age))\n",
        "print(salary , type(salary))"
      ],
      "metadata": {
        "colab": {
          "base_uri": "https://localhost:8080/"
        },
        "id": "f5ezzOKIZ6iG",
        "outputId": "065b534e-ad40-4c47-f7e6-18a6cda0c5c5"
      },
      "execution_count": null,
      "outputs": [
        {
          "output_type": "stream",
          "name": "stdout",
          "text": [
            "Bipul <class 'str'>\n",
            "44 <class 'int'>\n",
            "65.8 <class 'float'>\n"
          ]
        }
      ]
    },
    {
      "cell_type": "code",
      "source": [
        "cities = [\"Delhi\" , \"Mumbai\" , \"Chennai\" , \"Kolkata\" , \"Hyderabad\"]\n",
        "print(cities)\n",
        "print(type(cities))"
      ],
      "metadata": {
        "colab": {
          "base_uri": "https://localhost:8080/"
        },
        "id": "gxreqlHYaH3E",
        "outputId": "79979309-0b99-434c-fc45-b476ebcc3cd5"
      },
      "execution_count": null,
      "outputs": [
        {
          "output_type": "stream",
          "name": "stdout",
          "text": [
            "['Delhi', 'Mumbai', 'Chennai', 'Kolkata', 'Hyderabad']\n",
            "<class 'list'>\n"
          ]
        }
      ]
    },
    {
      "cell_type": "code",
      "source": [
        "print(cities[0])\n",
        "print(cities[1])\n",
        "print(cities[2])"
      ],
      "metadata": {
        "colab": {
          "base_uri": "https://localhost:8080/"
        },
        "id": "5V0cmO4hahcI",
        "outputId": "e8deac7d-f5c1-4c11-cffc-afc0c921e2fe"
      },
      "execution_count": null,
      "outputs": [
        {
          "output_type": "stream",
          "name": "stdout",
          "text": [
            "Delhi\n",
            "Mumbai\n",
            "Chennai\n"
          ]
        }
      ]
    },
    {
      "cell_type": "code",
      "source": [
        "cities[2] = \"Mysore\"\n",
        "print(cities)"
      ],
      "metadata": {
        "colab": {
          "base_uri": "https://localhost:8080/"
        },
        "id": "ljFs1CIPbQPE",
        "outputId": "26268d10-078e-43d0-ba10-a4f4e65aee46"
      },
      "execution_count": null,
      "outputs": [
        {
          "output_type": "stream",
          "name": "stdout",
          "text": [
            "['Delhi', 'Mumbai', 'Mysore', 'Kolkata', 'Hyderabad']\n"
          ]
        }
      ]
    },
    {
      "cell_type": "markdown",
      "source": [
        "* List is mutable data structure or data type of Python\n",
        "* Tuple is immutable data structure or data type of Python"
      ],
      "metadata": {
        "id": "Q23RNPh4bdzF"
      }
    },
    {
      "cell_type": "code",
      "source": [
        "employees = (\"Bipul\" , \"Mohan\" , \"Ramesh\" , \"Ajay\" , \"Sanjay\")\n",
        "print(employees)\n",
        "print(type(employees))"
      ],
      "metadata": {
        "colab": {
          "base_uri": "https://localhost:8080/"
        },
        "id": "yfpbZSFuaz7-",
        "outputId": "1620c01c-1cf2-4d5a-e629-ed04517e5489"
      },
      "execution_count": null,
      "outputs": [
        {
          "output_type": "stream",
          "name": "stdout",
          "text": [
            "('Bipul', 'Mohan', 'Ramesh', 'Ajay', 'Sanjay')\n",
            "<class 'tuple'>\n"
          ]
        }
      ]
    },
    {
      "cell_type": "code",
      "source": [
        "print(employees[0])\n",
        "print(employees[1])\n",
        "print(employees[2])"
      ],
      "metadata": {
        "colab": {
          "base_uri": "https://localhost:8080/"
        },
        "id": "ibKIRjDNbHwr",
        "outputId": "0087763d-6a45-4fb3-b65e-22dbfc11a8ad"
      },
      "execution_count": null,
      "outputs": [
        {
          "output_type": "stream",
          "name": "stdout",
          "text": [
            "Bipul\n",
            "Mohan\n",
            "Ramesh\n"
          ]
        }
      ]
    },
    {
      "cell_type": "code",
      "source": [
        "employees[2] = \"Suresh\""
      ],
      "metadata": {
        "colab": {
          "base_uri": "https://localhost:8080/",
          "height": 149
        },
        "id": "GDfNaMzQbLHv",
        "outputId": "15a617f3-b5bb-474d-b1a6-65b74ca11a5d"
      },
      "execution_count": null,
      "outputs": [
        {
          "output_type": "error",
          "ename": "TypeError",
          "evalue": "'tuple' object does not support item assignment",
          "traceback": [
            "\u001b[0;31m---------------------------------------------------------------------------\u001b[0m",
            "\u001b[0;31mTypeError\u001b[0m                                 Traceback (most recent call last)",
            "\u001b[0;32m<ipython-input-13-5a09822d9cf0>\u001b[0m in \u001b[0;36m<cell line: 1>\u001b[0;34m()\u001b[0m\n\u001b[0;32m----> 1\u001b[0;31m \u001b[0memployees\u001b[0m\u001b[0;34m[\u001b[0m\u001b[0;36m2\u001b[0m\u001b[0;34m]\u001b[0m \u001b[0;34m=\u001b[0m \u001b[0;34m\"Suresh\"\u001b[0m\u001b[0;34m\u001b[0m\u001b[0;34m\u001b[0m\u001b[0m\n\u001b[0m",
            "\u001b[0;31mTypeError\u001b[0m: 'tuple' object does not support item assignment"
          ]
        }
      ]
    },
    {
      "cell_type": "code",
      "source": [
        "student_detail = {\"name\" : \"Tom\" ,\n",
        "                  \"marks\" : 45,\n",
        "                  \"email\" : \"tom@jerry.com\"}\n",
        "print(student_detail)\n",
        "print(type(student_detail))"
      ],
      "metadata": {
        "colab": {
          "base_uri": "https://localhost:8080/"
        },
        "id": "LUYUtXCGbbmM",
        "outputId": "68319343-157b-4b1b-fedc-9919961b45f4"
      },
      "execution_count": null,
      "outputs": [
        {
          "output_type": "stream",
          "name": "stdout",
          "text": [
            "{'name': 'Tom', 'marks': 45, 'email': 'tom@jerry.com'}\n",
            "<class 'dict'>\n"
          ]
        }
      ]
    },
    {
      "cell_type": "code",
      "source": [
        "print(student_detail.keys())\n",
        "print()\n",
        "print(student_detail.values())"
      ],
      "metadata": {
        "colab": {
          "base_uri": "https://localhost:8080/"
        },
        "id": "ocdILC0CcTWq",
        "outputId": "7db20904-ea81-4994-97e8-453cda71a14e"
      },
      "execution_count": null,
      "outputs": [
        {
          "output_type": "stream",
          "name": "stdout",
          "text": [
            "dict_keys(['name', 'marks', 'email'])\n",
            "\n",
            "dict_values(['Tom', 45, 'tom@jerry.com'])\n"
          ]
        }
      ]
    },
    {
      "cell_type": "code",
      "source": [
        "print(student_detail[\"name\"])\n"
      ],
      "metadata": {
        "colab": {
          "base_uri": "https://localhost:8080/"
        },
        "id": "KNAMg77Rb8kg",
        "outputId": "b3778673-98e2-446c-e685-e3cf98a84b31"
      },
      "execution_count": null,
      "outputs": [
        {
          "output_type": "stream",
          "name": "stdout",
          "text": [
            "Tom\n"
          ]
        }
      ]
    },
    {
      "cell_type": "code",
      "source": [
        "student_detail[\"marks\"] = 47\n",
        "print(student_detail)"
      ],
      "metadata": {
        "colab": {
          "base_uri": "https://localhost:8080/"
        },
        "id": "QHXDwWthcOr_",
        "outputId": "e4085270-3e4e-4e1b-e76d-c6c111a7e07e"
      },
      "execution_count": null,
      "outputs": [
        {
          "output_type": "stream",
          "name": "stdout",
          "text": [
            "{'name': 'Tom', 'marks': 47, 'email': 'tom@jerry.com'}\n"
          ]
        }
      ]
    },
    {
      "cell_type": "code",
      "source": [
        "status = True\n",
        "print(status)\n",
        "print(type(status))"
      ],
      "metadata": {
        "colab": {
          "base_uri": "https://localhost:8080/"
        },
        "id": "2Q8gs3Zocexr",
        "outputId": "68c033c3-c280-4733-c5d6-942e548afdc3"
      },
      "execution_count": null,
      "outputs": [
        {
          "output_type": "stream",
          "name": "stdout",
          "text": [
            "True\n",
            "<class 'bool'>\n"
          ]
        }
      ]
    },
    {
      "cell_type": "markdown",
      "source": [
        "* string\n",
        "* int\n",
        "* float\n",
        "* list\n",
        "* tuple\n",
        "* dictionary\n",
        "* boolean"
      ],
      "metadata": {
        "id": "RktgpoKUcnIg"
      }
    },
    {
      "cell_type": "markdown",
      "source": [
        "**Operators**"
      ],
      "metadata": {
        "id": "AM_5JYeVc7Zs"
      }
    },
    {
      "cell_type": "code",
      "source": [
        "#Arthmetic Operators\n",
        "\n",
        "a = 17\n",
        "b = 5\n",
        "\n",
        "print(a + b)\n",
        "print(a - b)\n",
        "print(a * b)\n",
        "print(a / b)\n",
        "print(a // b)     #integer\n",
        "print(a % b)       #remainder\n",
        "print(a ** b)      #exponential"
      ],
      "metadata": {
        "colab": {
          "base_uri": "https://localhost:8080/"
        },
        "id": "Ik-5N8EdcmBQ",
        "outputId": "89fcd9d9-0d01-44a8-aac5-065c81a6a76b"
      },
      "execution_count": null,
      "outputs": [
        {
          "output_type": "stream",
          "name": "stdout",
          "text": [
            "22\n",
            "12\n",
            "85\n",
            "3.4\n",
            "3\n",
            "2\n",
            "1419857\n"
          ]
        }
      ]
    },
    {
      "cell_type": "code",
      "source": [
        "#Comparasion Operators\n",
        "\n",
        "print(a == b)\n",
        "print(a != b)\n",
        "print(a > b)\n",
        "print(a < b)\n",
        "print(a >= b)\n",
        "print(a <= b)"
      ],
      "metadata": {
        "colab": {
          "base_uri": "https://localhost:8080/"
        },
        "id": "KLb3OMaLdRgo",
        "outputId": "a6b0c71c-bbc4-43df-9824-5d214d17e372"
      },
      "execution_count": null,
      "outputs": [
        {
          "output_type": "stream",
          "name": "stdout",
          "text": [
            "False\n",
            "True\n",
            "True\n",
            "False\n",
            "True\n",
            "False\n"
          ]
        }
      ]
    },
    {
      "cell_type": "code",
      "source": [
        "#Logical operator\n",
        "\n",
        "age = 32\n",
        "\n",
        "print(age > 18 and age < 60)       #True and True => True"
      ],
      "metadata": {
        "colab": {
          "base_uri": "https://localhost:8080/"
        },
        "id": "tdXB1fgydm90",
        "outputId": "6537d7e6-90dc-41fa-e2d9-fa0585c83b61"
      },
      "execution_count": null,
      "outputs": [
        {
          "output_type": "stream",
          "name": "stdout",
          "text": [
            "True\n"
          ]
        }
      ]
    },
    {
      "cell_type": "code",
      "source": [
        "age = 65\n",
        "\n",
        "print(age > 18 and age < 60)       #True and False => False"
      ],
      "metadata": {
        "colab": {
          "base_uri": "https://localhost:8080/"
        },
        "id": "Vd6K8gg_d6MJ",
        "outputId": "30d24930-6e90-4c2f-f6bf-42b6b7d5736b"
      },
      "execution_count": null,
      "outputs": [
        {
          "output_type": "stream",
          "name": "stdout",
          "text": [
            "False\n"
          ]
        }
      ]
    },
    {
      "cell_type": "code",
      "source": [
        "age = 12\n",
        "\n",
        "print(age > 18 and age < 60)       #False and True => False"
      ],
      "metadata": {
        "colab": {
          "base_uri": "https://localhost:8080/"
        },
        "id": "t46Qq6j7eC2a",
        "outputId": "59dc2837-8a74-40ee-ab6c-976355f18fa1"
      },
      "execution_count": null,
      "outputs": [
        {
          "output_type": "stream",
          "name": "stdout",
          "text": [
            "False\n"
          ]
        }
      ]
    },
    {
      "cell_type": "code",
      "source": [
        "age = 18\n",
        "\n",
        "print(age > 18 and age > 60)       #False and False => False"
      ],
      "metadata": {
        "colab": {
          "base_uri": "https://localhost:8080/"
        },
        "id": "XfDevzZ6eMsU",
        "outputId": "130ca70f-f839-47f0-dd12-d7e69cd4ff0d"
      },
      "execution_count": null,
      "outputs": [
        {
          "output_type": "stream",
          "name": "stdout",
          "text": [
            "False\n"
          ]
        }
      ]
    },
    {
      "cell_type": "code",
      "source": [
        "age = 32\n",
        "\n",
        "print(age > 18 or age < 60)       #True or True => True"
      ],
      "metadata": {
        "colab": {
          "base_uri": "https://localhost:8080/"
        },
        "id": "C8cM9bJDeTLj",
        "outputId": "dcb5d32e-55ed-44a9-c9f3-57f2953f3e4e"
      },
      "execution_count": null,
      "outputs": [
        {
          "output_type": "stream",
          "name": "stdout",
          "text": [
            "True\n"
          ]
        }
      ]
    },
    {
      "cell_type": "code",
      "source": [
        "age = 12\n",
        "\n",
        "print(age > 18 or age < 60)       #False and True => True"
      ],
      "metadata": {
        "colab": {
          "base_uri": "https://localhost:8080/"
        },
        "id": "yE6Zj_xIea1x",
        "outputId": "49d0d280-37b4-48f9-a076-6b67dc0b9bb5"
      },
      "execution_count": null,
      "outputs": [
        {
          "output_type": "stream",
          "name": "stdout",
          "text": [
            "True\n"
          ]
        }
      ]
    },
    {
      "cell_type": "code",
      "source": [
        "age = 12\n",
        "\n",
        "print(age > 18 or age < 60)       #False and True => True"
      ],
      "metadata": {
        "colab": {
          "base_uri": "https://localhost:8080/"
        },
        "id": "Jxj141WRed5D",
        "outputId": "f0db16ea-3db4-4ae0-bccb-2db028e0e0ec"
      },
      "execution_count": null,
      "outputs": [
        {
          "output_type": "stream",
          "name": "stdout",
          "text": [
            "True\n"
          ]
        }
      ]
    },
    {
      "cell_type": "code",
      "source": [
        "age = 18\n",
        "\n",
        "print(age > 18 or age > 60)       #False or False => False"
      ],
      "metadata": {
        "colab": {
          "base_uri": "https://localhost:8080/"
        },
        "id": "jnn9D-Ccej6j",
        "outputId": "f9320c1e-b9ad-44fb-bb94-a37c392faab5"
      },
      "execution_count": null,
      "outputs": [
        {
          "output_type": "stream",
          "name": "stdout",
          "text": [
            "False\n"
          ]
        }
      ]
    },
    {
      "cell_type": "code",
      "source": [
        "#Membership operator\n",
        "\n",
        "print(cities)"
      ],
      "metadata": {
        "colab": {
          "base_uri": "https://localhost:8080/"
        },
        "id": "MNnM_1psemrU",
        "outputId": "ba148704-12b2-4324-d5c2-96ca5546a2f5"
      },
      "execution_count": null,
      "outputs": [
        {
          "output_type": "stream",
          "name": "stdout",
          "text": [
            "['Delhi', 'Mumbai', 'Mysore', 'Kolkata', 'Hyderabad']\n"
          ]
        }
      ]
    },
    {
      "cell_type": "code",
      "source": [
        "print('Mumbai' in cities)\n",
        "print('Mumbai' not in cities)"
      ],
      "metadata": {
        "colab": {
          "base_uri": "https://localhost:8080/"
        },
        "id": "qdPw8Yw_e0Nl",
        "outputId": "f019f449-c0c6-4cc8-9747-8fdbf25cc35a"
      },
      "execution_count": null,
      "outputs": [
        {
          "output_type": "stream",
          "name": "stdout",
          "text": [
            "True\n",
            "False\n"
          ]
        }
      ]
    },
    {
      "cell_type": "code",
      "source": [
        "print('Chennai' in cities)\n",
        "print('Chennai' not in cities)"
      ],
      "metadata": {
        "colab": {
          "base_uri": "https://localhost:8080/"
        },
        "id": "_yIclEoqe40e",
        "outputId": "9448f83c-b579-43fc-9a04-318f563d2465"
      },
      "execution_count": null,
      "outputs": [
        {
          "output_type": "stream",
          "name": "stdout",
          "text": [
            "False\n",
            "True\n"
          ]
        }
      ]
    },
    {
      "cell_type": "code",
      "source": [
        "#conditional Programming\n",
        "\n",
        "age = float(input(\"Enter Your age\"))        #user input field => string type\n",
        "print(age)\n",
        "\n",
        "if age >= 18:\n",
        "  print(\"You are eligible to vote\")            #it will be triggered if condition under if is true\n",
        "else:\n",
        "  print(\"You are not eligible to vote\")        #it will be triggered if condition under if is false"
      ],
      "metadata": {
        "colab": {
          "base_uri": "https://localhost:8080/"
        },
        "id": "Xu5eKtYbe_Vp",
        "outputId": "b01855ad-1f5e-40ba-835f-27d768e3fef9"
      },
      "execution_count": null,
      "outputs": [
        {
          "output_type": "stream",
          "name": "stdout",
          "text": [
            "Enter Your age56\n",
            "56.0\n",
            "You are eligible to vote\n"
          ]
        }
      ]
    },
    {
      "cell_type": "code",
      "source": [
        "marks = float(input(\"Enter Your Marks\"))\n",
        "\n",
        "if(marks >= 90):\n",
        "   print(\"You are pass with Distiction\")\n",
        "elif(marks >= 70):\n",
        "   print(\"You are pass with Grade A+\")\n",
        "elif(marks >= 60):\n",
        "   print(\"You are pass with grade A\")\n",
        "elif(marks >= 50):\n",
        "   print(\"You are pass with Grade B\")\n",
        "elif(marks >= 35):\n",
        "   print(\"You are Pass\")\n",
        "else:\n",
        "  print(\"You are fail\")"
      ],
      "metadata": {
        "colab": {
          "base_uri": "https://localhost:8080/"
        },
        "id": "1DPy5jWHfraG",
        "outputId": "e72eced0-fa35-4685-9dc5-521640daad65"
      },
      "execution_count": null,
      "outputs": [
        {
          "output_type": "stream",
          "name": "stdout",
          "text": [
            "Enter Your Marks55\n",
            "You are pass with Grade B\n"
          ]
        }
      ]
    },
    {
      "cell_type": "code",
      "source": [],
      "metadata": {
        "id": "OtnPCmBBg775"
      },
      "execution_count": null,
      "outputs": []
    }
  ]
}