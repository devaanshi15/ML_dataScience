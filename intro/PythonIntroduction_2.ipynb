{
  "cells": [
    {
      "cell_type": "markdown",
      "metadata": {
        "id": "AIIibikgelIk"
      },
      "source": [
        "**Loop - for**"
      ]
    },
    {
      "cell_type": "code",
      "execution_count": null,
      "metadata": {
        "colab": {
          "base_uri": "https://localhost:8080/"
        },
        "id": "rkn02wmbedY8",
        "outputId": "f4d4ca11-d589-4bd3-b0f9-6f40f5203253"
      },
      "outputs": [
        {
          "name": "stdout",
          "output_type": "stream",
          "text": [
            "Hello World\n",
            "Hello World\n",
            "Hello World\n",
            "Hello World\n",
            "Hello World\n"
          ]
        }
      ],
      "source": [
        "print(\"Hello World\")\n",
        "print(\"Hello World\")\n",
        "print(\"Hello World\")\n",
        "print(\"Hello World\")\n",
        "print(\"Hello World\")"
      ]
    },
    {
      "cell_type": "code",
      "execution_count": null,
      "metadata": {
        "colab": {
          "base_uri": "https://localhost:8080/"
        },
        "id": "DTuykF02e0im",
        "outputId": "d6ea0877-6b93-48ba-883a-f4c750172657"
      },
      "outputs": [
        {
          "name": "stdout",
          "output_type": "stream",
          "text": [
            "0 Hello World\n",
            "1 Hello World\n",
            "2 Hello World\n",
            "3 Hello World\n",
            "4 Hello World\n"
          ]
        }
      ],
      "source": [
        "for i in range(5):\n",
        "  print(i,\"Hello World\")"
      ]
    },
    {
      "cell_type": "code",
      "execution_count": null,
      "metadata": {
        "colab": {
          "base_uri": "https://localhost:8080/"
        },
        "id": "kOdDj06ve7YH",
        "outputId": "7b81588f-fba9-4962-8e06-45e9cb1bd74f"
      },
      "outputs": [
        {
          "name": "stdout",
          "output_type": "stream",
          "text": [
            "Delhi 5\n",
            "Mumbai 6\n",
            "Chennai 7\n",
            "Kolkata 7\n",
            "Hyderabad 9\n"
          ]
        }
      ],
      "source": [
        "cities = [\"Delhi\" , \"Mumbai\" , \"Chennai\" , \"Kolkata\" , \"Hyderabad\"]\n",
        "\n",
        "print(cities[0] , len(cities[0]))\n",
        "print(cities[1] , len(cities[1]))\n",
        "print(cities[2] , len(cities[2]))\n",
        "print(cities[3] , len(cities[3]))\n",
        "print(cities[4] , len(cities[4]))"
      ]
    },
    {
      "cell_type": "code",
      "execution_count": null,
      "metadata": {
        "colab": {
          "base_uri": "https://localhost:8080/"
        },
        "id": "TQ1NQsUFfOyy",
        "outputId": "033951bd-86ef-4959-838f-2b2fb853cf5a"
      },
      "outputs": [
        {
          "name": "stdout",
          "output_type": "stream",
          "text": [
            "Delhi 5\n",
            "Mumbai 6\n",
            "Chennai 7\n",
            "Kolkata 7\n",
            "Hyderabad 9\n"
          ]
        }
      ],
      "source": [
        "for i in range(0,len(cities)):\n",
        "  print(cities[i] , len(cities[i]))"
      ]
    },
    {
      "cell_type": "code",
      "execution_count": null,
      "metadata": {
        "colab": {
          "base_uri": "https://localhost:8080/"
        },
        "id": "ENA5GwBCfjFp",
        "outputId": "c366c6bd-23c6-43b5-8c55-4e08db6ad77a"
      },
      "outputs": [
        {
          "name": "stdout",
          "output_type": "stream",
          "text": [
            "5 is odd\n",
            "4 is even\n",
            "3 is odd\n",
            "7 is odd\n",
            "8 is even\n",
            "3 is odd\n",
            "2 is even\n",
            "9 is odd\n",
            "6 is even\n"
          ]
        }
      ],
      "source": [
        "numbers = [5,4,3,7,8,3,2,9,6]\n",
        "\n",
        "for num in numbers:\n",
        "  if(num % 2 == 0):\n",
        "    print(num , \"is even\")\n",
        "  else:\n",
        "    print(num , \"is odd\")"
      ]
    },
    {
      "cell_type": "code",
      "execution_count": null,
      "metadata": {
        "colab": {
          "base_uri": "https://localhost:8080/"
        },
        "id": "h14pezcZfxfz",
        "outputId": "e61497e7-6463-4d7e-b8bc-f8cabb85eff5"
      },
      "outputs": [
        {
          "name": "stdout",
          "output_type": "stream",
          "text": [
            "Enter Your User Nameadmin\n",
            "Enter Your Passwordpassword\n",
            "Login Successful\n"
          ]
        }
      ],
      "source": [
        "uname = input(\"Enter Your User Name\")\n",
        "upass = input(\"Enter Your Password\")\n",
        "\n",
        "if(uname == \"admin\" and upass == \"password\"):\n",
        "  print(\"Login Successful\")\n",
        "else:\n",
        "  print(\"Login Failed\")"
      ]
    },
    {
      "cell_type": "code",
      "execution_count": null,
      "metadata": {
        "colab": {
          "base_uri": "https://localhost:8080/"
        },
        "id": "CtMATHZohL8b",
        "outputId": "189addb7-dc9d-4334-88ec-bdcb5c31e18c"
      },
      "outputs": [
        {
          "name": "stdout",
          "output_type": "stream",
          "text": [
            "0\n",
            "1\n",
            "2\n",
            "3\n",
            "4\n",
            "5\n",
            "6\n"
          ]
        }
      ],
      "source": [
        "for i in range(0,10):\n",
        "  print(i)\n",
        "  if i == 6:\n",
        "    break"
      ]
    },
    {
      "cell_type": "code",
      "execution_count": null,
      "metadata": {
        "colab": {
          "base_uri": "https://localhost:8080/"
        },
        "id": "rmi21vP2gpNL",
        "outputId": "2d56b75b-aa4c-4897-dc77-3aac9e370ef2"
      },
      "outputs": [
        {
          "name": "stdout",
          "output_type": "stream",
          "text": [
            "Enter Your User Nameadghj\n",
            "Enter Your Passworddfghj\n",
            "Login Failed\n",
            "Enter Your User Nameadmin\n",
            "Enter Your Passwordpassword\n",
            "Login Successful\n"
          ]
        }
      ],
      "source": [
        "for i in range(0,3):\n",
        "  uname = input(\"Enter Your User Name\")\n",
        "  upass = input(\"Enter Your Password\")\n",
        "\n",
        "  if(uname == \"admin\" and upass == \"password\"):\n",
        "    print(\"Login Successful\")\n",
        "    break\n",
        "  else:\n",
        "    print(\"Login Failed\")"
      ]
    },
    {
      "cell_type": "code",
      "execution_count": null,
      "metadata": {
        "colab": {
          "base_uri": "https://localhost:8080/"
        },
        "id": "Y3FQrNWxhVEq",
        "outputId": "68dc14db-f5fd-425e-9dd9-989edcfa6523"
      },
      "outputs": [
        {
          "name": "stdout",
          "output_type": "stream",
          "text": [
            "0\n",
            "1\n",
            "2\n",
            "3\n",
            "4\n",
            "5\n",
            "7\n",
            "8\n",
            "9\n"
          ]
        }
      ],
      "source": [
        "for i in range(0,10):\n",
        "  if i == 6:\n",
        "    continue\n",
        "  print(i)"
      ]
    },
    {
      "cell_type": "markdown",
      "metadata": {
        "id": "PzwLFA7Wh1D-"
      },
      "source": [
        "**Loop - while**"
      ]
    },
    {
      "cell_type": "code",
      "execution_count": null,
      "metadata": {
        "colab": {
          "base_uri": "https://localhost:8080/"
        },
        "id": "T2Lz-63Vhp8C",
        "outputId": "a76c6b4c-7665-4398-d180-053e1c5bc6f9"
      },
      "outputs": [
        {
          "output_type": "stream",
          "name": "stdout",
          "text": [
            "Good Evening\n",
            "Good Evening\n",
            "Good Evening\n",
            "Good Evening\n",
            "Good Evening\n"
          ]
        }
      ],
      "source": [
        "i = 0\n",
        "\n",
        "while i < 5:\n",
        "  print(\"Good Evening\")\n",
        "  i = i + 1\n"
      ]
    },
    {
      "cell_type": "code",
      "execution_count": null,
      "metadata": {
        "id": "hXzjOGKkh9vP",
        "colab": {
          "base_uri": "https://localhost:8080/"
        },
        "outputId": "53aecbac-6a78-4d99-a110-2071dcf8a58d"
      },
      "outputs": [
        {
          "output_type": "stream",
          "name": "stdout",
          "text": [
            "Enter Your User Namesdfgh\n",
            "Enter Your Passwordghjk\n",
            "Enter Your User Namehjk\n",
            "Enter Your Passwordfghj\n",
            "Enter Your User Namefghjk\n",
            "Enter Your Passwordghjk\n",
            "No More attenpt left\n"
          ]
        }
      ],
      "source": [
        "#Create a login activity to givr 3 attempts for login if entered values ar incorrect using while loop\n",
        "\n",
        "uname = \"\"\n",
        "upass = \"\"\n",
        "\n",
        "count = 0\n",
        "\n",
        "while (uname != \"admin\" or upass != \"password\"):\n",
        "  uname = input(\"Enter Your User Name\")\n",
        "  upass = input(\"Enter Your Password\")\n",
        "  count = count + 1\n",
        "  if(count == 3):\n",
        "    print(\"No More attenpt left\")\n",
        "    break\n",
        "else:\n",
        "  print(\"Login Successful\")"
      ]
    },
    {
      "cell_type": "markdown",
      "source": [
        "**functions - user defined**"
      ],
      "metadata": {
        "id": "Qi83a58EkIfV"
      }
    },
    {
      "cell_type": "markdown",
      "source": [
        "* f(x) = x + 5\n",
        "* f(4) = 9\n",
        "* f(7) = 12"
      ],
      "metadata": {
        "id": "4jqTGX32kMtJ"
      }
    },
    {
      "cell_type": "code",
      "source": [
        "def add_five(num):\n",
        "  print(num + 5)"
      ],
      "metadata": {
        "id": "MYgQuKpTjhEP"
      },
      "execution_count": null,
      "outputs": []
    },
    {
      "cell_type": "code",
      "source": [
        "add_five(8)\n",
        "add_five(3)\n",
        "add_five(9)"
      ],
      "metadata": {
        "colab": {
          "base_uri": "https://localhost:8080/"
        },
        "id": "DUfSXIzAkczy",
        "outputId": "b5282031-38a2-4426-b3a1-075942adf97f"
      },
      "execution_count": null,
      "outputs": [
        {
          "output_type": "stream",
          "name": "stdout",
          "text": [
            "13\n",
            "8\n",
            "14\n"
          ]
        }
      ]
    },
    {
      "cell_type": "code",
      "source": [
        "#create a function to print sum of squares of a two numbers given as parameter\n",
        "\n",
        "def sum_squares(a,b):\n",
        "  print(a**2 + b**2)\n",
        "\n",
        "sum_squares(6,4)\n",
        "sum_squares(3,5)"
      ],
      "metadata": {
        "colab": {
          "base_uri": "https://localhost:8080/"
        },
        "id": "dJ0IDstJkhjU",
        "outputId": "7a9d73a0-93d6-475d-d533-b2b3b72464e1"
      },
      "execution_count": null,
      "outputs": [
        {
          "output_type": "stream",
          "name": "stdout",
          "text": [
            "52\n",
            "34\n"
          ]
        }
      ]
    },
    {
      "cell_type": "code",
      "source": [
        "def dosum(x,y):\n",
        "  return (x + y)"
      ],
      "metadata": {
        "id": "kZWgD0YglXYV"
      },
      "execution_count": null,
      "outputs": []
    },
    {
      "cell_type": "code",
      "source": [
        "result = dosum(7,3)"
      ],
      "metadata": {
        "id": "iq0yoomVlfSD"
      },
      "execution_count": null,
      "outputs": []
    },
    {
      "cell_type": "code",
      "source": [
        "print(result)"
      ],
      "metadata": {
        "colab": {
          "base_uri": "https://localhost:8080/"
        },
        "id": "ecfLXFYXlktj",
        "outputId": "c8ad560b-4fe4-407e-9a7b-ef55cfdac48b"
      },
      "execution_count": null,
      "outputs": [
        {
          "output_type": "stream",
          "name": "stdout",
          "text": [
            "10\n"
          ]
        }
      ]
    },
    {
      "cell_type": "code",
      "source": [
        "print(result * 5)"
      ],
      "metadata": {
        "colab": {
          "base_uri": "https://localhost:8080/"
        },
        "id": "gTfRhJt_lnXe",
        "outputId": "5d4ac358-f2bc-4696-b7ae-0ca9beeaeb95"
      },
      "execution_count": null,
      "outputs": [
        {
          "output_type": "stream",
          "name": "stdout",
          "text": [
            "50\n"
          ]
        }
      ]
    },
    {
      "cell_type": "code",
      "source": [],
      "metadata": {
        "id": "F_2aOUYllxQM"
      },
      "execution_count": null,
      "outputs": []
    }
  ],
  "metadata": {
    "colab": {
      "provenance": []
    },
    "kernelspec": {
      "display_name": "Python 3",
      "name": "python3"
    },
    "language_info": {
      "name": "python"
    }
  },
  "nbformat": 4,
  "nbformat_minor": 0
}