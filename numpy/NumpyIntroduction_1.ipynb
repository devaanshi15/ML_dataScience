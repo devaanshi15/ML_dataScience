{
  "nbformat": 4,
  "nbformat_minor": 0,
  "metadata": {
    "colab": {
      "provenance": []
    },
    "kernelspec": {
      "name": "python3",
      "display_name": "Python 3"
    },
    "language_info": {
      "name": "python"
    }
  },
  "cells": [
    {
      "cell_type": "code",
      "execution_count": null,
      "metadata": {
        "colab": {
          "base_uri": "https://localhost:8080/"
        },
        "id": "exR8PgAima39",
        "outputId": "0a8265a9-dd4a-4388-dda3-da6d84bdb33d"
      },
      "outputs": [
        {
          "output_type": "stream",
          "name": "stdout",
          "text": [
            "[3, 4, 5, 6, 7, 2, 3, 4, 5, 6, 7, 2]\n"
          ]
        }
      ],
      "source": [
        "l1 = [3,4,5,6,7,2]\n",
        "print(l1 * 2)"
      ]
    },
    {
      "cell_type": "code",
      "source": [
        "import numpy as np\n",
        "\n",
        "n1 = np.array([3,4,5,6,7,2])\n",
        "print(n1 * 2)"
      ],
      "metadata": {
        "colab": {
          "base_uri": "https://localhost:8080/"
        },
        "id": "J1LTgvMJml-f",
        "outputId": "3379086f-124d-41f7-88da-1d5e85817f42"
      },
      "execution_count": null,
      "outputs": [
        {
          "output_type": "stream",
          "name": "stdout",
          "text": [
            "[ 6  8 10 12 14  4]\n"
          ]
        }
      ]
    },
    {
      "cell_type": "code",
      "source": [
        "l2 = [[2,3,4,5,6] , [4,6,3,2,1] , [7,6,5,4,3]]\n",
        "print(l2)"
      ],
      "metadata": {
        "colab": {
          "base_uri": "https://localhost:8080/"
        },
        "id": "JUygAuHom7ei",
        "outputId": "916ba4c3-15da-43bd-c578-82b7756b5b78"
      },
      "execution_count": null,
      "outputs": [
        {
          "output_type": "stream",
          "name": "stdout",
          "text": [
            "[[2, 3, 4, 5, 6], [4, 6, 3, 2, 1], [7, 6, 5, 4, 3]]\n"
          ]
        }
      ]
    },
    {
      "cell_type": "code",
      "source": [
        "n2 = np.array([[2,3,4,5,6] , [4,6,3,2,1] , [7,6,5,4,3]])\n",
        "print(n2)"
      ],
      "metadata": {
        "colab": {
          "base_uri": "https://localhost:8080/"
        },
        "id": "3vd9HxfGnGdG",
        "outputId": "4ed2d857-39b8-49da-c184-b32701df7ec0"
      },
      "execution_count": null,
      "outputs": [
        {
          "output_type": "stream",
          "name": "stdout",
          "text": [
            "[[2 3 4 5 6]\n",
            " [4 6 3 2 1]\n",
            " [7 6 5 4 3]]\n"
          ]
        }
      ]
    },
    {
      "cell_type": "code",
      "source": [
        "print(np.sum(n2))\n",
        "print(np.mean(n2))\n",
        "print(np.median(n2))\n",
        "print(np.std(n2))\n",
        "print(np.var(n2))\n",
        "print(np.min(n2))\n",
        "print(np.max(n2))\n",
        "print(np.argmin(n2))\n",
        "print(np.argmax(n2))"
      ],
      "metadata": {
        "colab": {
          "base_uri": "https://localhost:8080/"
        },
        "id": "p7C55TLTnJUH",
        "outputId": "85e33192-6d59-4940-cbf2-ef64d7bce754"
      },
      "execution_count": null,
      "outputs": [
        {
          "output_type": "stream",
          "name": "stdout",
          "text": [
            "61\n",
            "4.066666666666666\n",
            "4.0\n",
            "1.6918103387266028\n",
            "2.8622222222222224\n",
            "1\n",
            "7\n",
            "9\n",
            "10\n"
          ]
        }
      ]
    },
    {
      "cell_type": "code",
      "source": [
        "print(n2)"
      ],
      "metadata": {
        "colab": {
          "base_uri": "https://localhost:8080/"
        },
        "id": "0zOnh02_n5-9",
        "outputId": "66e9e9cc-4956-4a85-bfca-1fda16810927"
      },
      "execution_count": null,
      "outputs": [
        {
          "output_type": "stream",
          "name": "stdout",
          "text": [
            "[[2 3 4 5 6]\n",
            " [4 6 3 2 1]\n",
            " [7 6 5 4 3]]\n"
          ]
        }
      ]
    },
    {
      "cell_type": "code",
      "source": [
        "print(n2.shape)\n",
        "print(n2.ndim)\n",
        "print(n2.size)"
      ],
      "metadata": {
        "colab": {
          "base_uri": "https://localhost:8080/"
        },
        "id": "PM0rCE3roSwx",
        "outputId": "0f40568e-1713-4409-ce50-25ab3e5e86a0"
      },
      "execution_count": null,
      "outputs": [
        {
          "output_type": "stream",
          "name": "stdout",
          "text": [
            "(3, 5)\n",
            "2\n",
            "15\n"
          ]
        }
      ]
    },
    {
      "cell_type": "code",
      "source": [
        "#Perform calculation for each data row\n",
        "\n",
        "print(np.sum(n2 , axis=1))\n",
        "print(np.mean(n2 , axis=1))\n",
        "print(np.median(n2 , axis=1))\n",
        "print(np.std(n2 , axis=1))\n",
        "print(np.var(n2 , axis=1))\n",
        "print(np.min(n2 , axis=1))\n",
        "print(np.max(n2 , axis=1))\n",
        "print(np.argmin(n2 , axis=1))\n",
        "print(np.argmax(n2 , axis=1))"
      ],
      "metadata": {
        "colab": {
          "base_uri": "https://localhost:8080/"
        },
        "id": "zW_c4CIIngT4",
        "outputId": "6c7595c4-1103-4dc8-d07b-2c32baf1946c"
      },
      "execution_count": null,
      "outputs": [
        {
          "output_type": "stream",
          "name": "stdout",
          "text": [
            "[20 16 25]\n",
            "[4.  3.2 5. ]\n",
            "[4. 3. 5.]\n",
            "[1.41421356 1.72046505 1.41421356]\n",
            "[2.   2.96 2.  ]\n",
            "[2 1 3]\n",
            "[6 6 7]\n",
            "[0 4 4]\n",
            "[4 1 0]\n"
          ]
        }
      ]
    },
    {
      "cell_type": "code",
      "source": [
        "#Perform calculation for each data column\n",
        "\n",
        "print(np.sum(n2 , axis=0))\n",
        "print(np.mean(n2 , axis=0))\n",
        "print(np.median(n2 , axis=0))\n",
        "print(np.std(n2 , axis=0))\n",
        "print(np.var(n2 , axis=0))\n",
        "print(np.min(n2 , axis=0))\n",
        "print(np.max(n2 , axis=0))\n",
        "print(np.argmin(n2 , axis=0))\n",
        "print(np.argmax(n2 , axis=0))"
      ],
      "metadata": {
        "colab": {
          "base_uri": "https://localhost:8080/"
        },
        "id": "i0t0y06Wn4Au",
        "outputId": "ca86a530-da28-4e4c-ef65-6d45188ec905"
      },
      "execution_count": null,
      "outputs": [
        {
          "output_type": "stream",
          "name": "stdout",
          "text": [
            "[13 15 12 11 10]\n",
            "[4.33333333 5.         4.         3.66666667 3.33333333]\n",
            "[4. 6. 4. 4. 3.]\n",
            "[2.05480467 1.41421356 0.81649658 1.24721913 2.05480467]\n",
            "[4.22222222 2.         0.66666667 1.55555556 4.22222222]\n",
            "[2 3 3 2 1]\n",
            "[7 6 5 5 6]\n",
            "[0 0 1 1 1]\n",
            "[2 1 2 0 0]\n"
          ]
        }
      ]
    },
    {
      "cell_type": "code",
      "source": [
        "n3 = np.array([[[1,2,3,4] , [5,4,6,6] , [2,6,5,4]],\n",
        "              [[1,2,3,4] , [5,4,6,6] , [2,6,5,4]]])\n",
        "print(n3)"
      ],
      "metadata": {
        "colab": {
          "base_uri": "https://localhost:8080/"
        },
        "id": "MoG7T-rKod1b",
        "outputId": "bee6fc21-9a2b-430f-93f3-b5965e4d46c0"
      },
      "execution_count": null,
      "outputs": [
        {
          "output_type": "stream",
          "name": "stdout",
          "text": [
            "[[[1 2 3 4]\n",
            "  [5 4 6 6]\n",
            "  [2 6 5 4]]\n",
            "\n",
            " [[1 2 3 4]\n",
            "  [5 4 6 6]\n",
            "  [2 6 5 4]]]\n"
          ]
        }
      ]
    },
    {
      "cell_type": "code",
      "source": [
        "print(n3.shape)\n",
        "print(n3.ndim)\n",
        "print(n3.size)"
      ],
      "metadata": {
        "colab": {
          "base_uri": "https://localhost:8080/"
        },
        "id": "aF7qffTkouha",
        "outputId": "3c6ce985-5029-4d96-e572-f3166d31d0e1"
      },
      "execution_count": null,
      "outputs": [
        {
          "output_type": "stream",
          "name": "stdout",
          "text": [
            "(2, 3, 4)\n",
            "3\n",
            "24\n"
          ]
        }
      ]
    },
    {
      "cell_type": "code",
      "source": [
        "print(np.sum(n3 , axis=0))"
      ],
      "metadata": {
        "colab": {
          "base_uri": "https://localhost:8080/"
        },
        "id": "g23bY3KOoJEY",
        "outputId": "4e88b7d4-77c5-4488-b194-64eb86dca053"
      },
      "execution_count": null,
      "outputs": [
        {
          "output_type": "stream",
          "name": "stdout",
          "text": [
            "[[ 2  4  6  8]\n",
            " [10  8 12 12]\n",
            " [ 4 12 10  8]]\n"
          ]
        }
      ]
    },
    {
      "cell_type": "code",
      "source": [
        "print(np.sum(n3 , axis=1))"
      ],
      "metadata": {
        "colab": {
          "base_uri": "https://localhost:8080/"
        },
        "id": "XhVonC7UoQag",
        "outputId": "54e13adf-0148-46d5-a7ad-493db1f5c512"
      },
      "execution_count": null,
      "outputs": [
        {
          "output_type": "stream",
          "name": "stdout",
          "text": [
            "[[ 8 12 14 14]\n",
            " [ 8 12 14 14]]\n"
          ]
        }
      ]
    },
    {
      "cell_type": "code",
      "source": [
        "print(np.sum(n3 , axis=2))"
      ],
      "metadata": {
        "colab": {
          "base_uri": "https://localhost:8080/"
        },
        "id": "6eJJEedMpDTj",
        "outputId": "9fd28c37-2927-4721-a80b-ed39a0df0c34"
      },
      "execution_count": null,
      "outputs": [
        {
          "output_type": "stream",
          "name": "stdout",
          "text": [
            "[[10 21 17]\n",
            " [10 21 17]]\n"
          ]
        }
      ]
    },
    {
      "cell_type": "code",
      "source": [
        "print(np.zeros((3,4)))"
      ],
      "metadata": {
        "colab": {
          "base_uri": "https://localhost:8080/"
        },
        "id": "VCZo87p5pUgf",
        "outputId": "16b4dfda-6cb3-4a16-f07a-166a2fa10f43"
      },
      "execution_count": null,
      "outputs": [
        {
          "output_type": "stream",
          "name": "stdout",
          "text": [
            "[[0. 0. 0. 0.]\n",
            " [0. 0. 0. 0.]\n",
            " [0. 0. 0. 0.]]\n"
          ]
        }
      ]
    },
    {
      "cell_type": "code",
      "source": [
        "np.ones((3,4))"
      ],
      "metadata": {
        "colab": {
          "base_uri": "https://localhost:8080/"
        },
        "id": "TeIP8549pkSo",
        "outputId": "4996ff58-7426-4b85-f243-a5fdc934aa68"
      },
      "execution_count": null,
      "outputs": [
        {
          "output_type": "execute_result",
          "data": {
            "text/plain": [
              "array([[1., 1., 1., 1.],\n",
              "       [1., 1., 1., 1.],\n",
              "       [1., 1., 1., 1.]])"
            ]
          },
          "metadata": {},
          "execution_count": 18
        }
      ]
    },
    {
      "cell_type": "code",
      "source": [
        "np.eye(4)"
      ],
      "metadata": {
        "colab": {
          "base_uri": "https://localhost:8080/"
        },
        "id": "AO2T5AbppnjB",
        "outputId": "93133f75-11cf-4761-a3f7-da29b464bbc4"
      },
      "execution_count": null,
      "outputs": [
        {
          "output_type": "execute_result",
          "data": {
            "text/plain": [
              "array([[1., 0., 0., 0.],\n",
              "       [0., 1., 0., 0.],\n",
              "       [0., 0., 1., 0.],\n",
              "       [0., 0., 0., 1.]])"
            ]
          },
          "metadata": {},
          "execution_count": 19
        }
      ]
    },
    {
      "cell_type": "code",
      "source": [
        "np.random.randint(0,10)"
      ],
      "metadata": {
        "colab": {
          "base_uri": "https://localhost:8080/"
        },
        "id": "DslnH47hpqfe",
        "outputId": "2e3382e3-d46d-4a7e-e2d1-94e68d225471"
      },
      "execution_count": null,
      "outputs": [
        {
          "output_type": "execute_result",
          "data": {
            "text/plain": [
              "9"
            ]
          },
          "metadata": {},
          "execution_count": 21
        }
      ]
    },
    {
      "cell_type": "code",
      "source": [
        "np.random.randint(0,10,(3,4))"
      ],
      "metadata": {
        "colab": {
          "base_uri": "https://localhost:8080/"
        },
        "id": "c5zcVx1-pwAB",
        "outputId": "65f1d81f-b28f-4d7a-c0fe-24d5b78b344a"
      },
      "execution_count": null,
      "outputs": [
        {
          "output_type": "execute_result",
          "data": {
            "text/plain": [
              "array([[9, 1, 8, 4],\n",
              "       [8, 3, 4, 0],\n",
              "       [9, 7, 4, 1]])"
            ]
          },
          "metadata": {},
          "execution_count": 22
        }
      ]
    },
    {
      "cell_type": "code",
      "source": [
        "n5 = np.random.randint(0,10,(3,4))\n",
        "print(n5)"
      ],
      "metadata": {
        "colab": {
          "base_uri": "https://localhost:8080/"
        },
        "id": "3fZPljcbp0Ub",
        "outputId": "71e7435a-08b4-4a86-a6a5-1118f435ff74"
      },
      "execution_count": null,
      "outputs": [
        {
          "output_type": "stream",
          "name": "stdout",
          "text": [
            "[[5 9 6 6]\n",
            " [7 9 4 6]\n",
            " [8 8 9 5]]\n"
          ]
        }
      ]
    },
    {
      "cell_type": "code",
      "source": [
        "n6 = np.random.randint(0,10,(2,4))\n",
        "print(n6)"
      ],
      "metadata": {
        "colab": {
          "base_uri": "https://localhost:8080/"
        },
        "id": "8wiLDwLKqI89",
        "outputId": "c0c7ce36-9c44-4019-f065-ae84db5023c1"
      },
      "execution_count": null,
      "outputs": [
        {
          "output_type": "stream",
          "name": "stdout",
          "text": [
            "[[1 7 6 7]\n",
            " [1 2 9 5]]\n"
          ]
        }
      ]
    },
    {
      "cell_type": "code",
      "source": [
        "np.vstack((n5,n6))"
      ],
      "metadata": {
        "colab": {
          "base_uri": "https://localhost:8080/"
        },
        "id": "AWH-L2zZqLpN",
        "outputId": "44fceee9-b21f-42f1-9fb5-8ef64c1b2ae2"
      },
      "execution_count": null,
      "outputs": [
        {
          "output_type": "execute_result",
          "data": {
            "text/plain": [
              "array([[5, 9, 6, 6],\n",
              "       [7, 9, 4, 6],\n",
              "       [8, 8, 9, 5],\n",
              "       [1, 7, 6, 7],\n",
              "       [1, 2, 9, 5]])"
            ]
          },
          "metadata": {},
          "execution_count": 27
        }
      ]
    },
    {
      "cell_type": "code",
      "source": [
        "np.concatenate((n5,n6) , axis = 0)"
      ],
      "metadata": {
        "colab": {
          "base_uri": "https://localhost:8080/"
        },
        "id": "IfFu_tc1q3OB",
        "outputId": "250cfca3-4173-4f2c-ddf3-6934920625bc"
      },
      "execution_count": null,
      "outputs": [
        {
          "output_type": "execute_result",
          "data": {
            "text/plain": [
              "array([[5, 9, 6, 6],\n",
              "       [7, 9, 4, 6],\n",
              "       [8, 8, 9, 5],\n",
              "       [1, 7, 6, 7],\n",
              "       [1, 2, 9, 5]])"
            ]
          },
          "metadata": {},
          "execution_count": 33
        }
      ]
    },
    {
      "cell_type": "code",
      "source": [
        "n7 = np.random.randint(0,10,(2,2))\n",
        "print(n7)"
      ],
      "metadata": {
        "colab": {
          "base_uri": "https://localhost:8080/"
        },
        "id": "mLFCHYy_qbec",
        "outputId": "c28b826b-959e-4ff4-acd3-5528b3e19070"
      },
      "execution_count": null,
      "outputs": [
        {
          "output_type": "stream",
          "name": "stdout",
          "text": [
            "[[5 6]\n",
            " [9 7]]\n"
          ]
        }
      ]
    },
    {
      "cell_type": "code",
      "source": [
        "np.hstack((n6,n7))"
      ],
      "metadata": {
        "colab": {
          "base_uri": "https://localhost:8080/"
        },
        "id": "p4hajcXlqUtS",
        "outputId": "6de408f5-b0a1-4d0b-e154-6bb9566e2188"
      },
      "execution_count": null,
      "outputs": [
        {
          "output_type": "execute_result",
          "data": {
            "text/plain": [
              "array([[1, 7, 6, 7, 5, 6],\n",
              "       [1, 2, 9, 5, 9, 7]])"
            ]
          },
          "metadata": {},
          "execution_count": 31
        }
      ]
    },
    {
      "cell_type": "code",
      "source": [
        "np.concatenate((n6,n7) , axis = 1)"
      ],
      "metadata": {
        "colab": {
          "base_uri": "https://localhost:8080/"
        },
        "id": "0lOLmp47qX6w",
        "outputId": "8bd7eb98-734e-4b11-b611-1388e64ca343"
      },
      "execution_count": null,
      "outputs": [
        {
          "output_type": "execute_result",
          "data": {
            "text/plain": [
              "array([[1, 7, 6, 7, 5, 6],\n",
              "       [1, 2, 9, 5, 9, 7]])"
            ]
          },
          "metadata": {},
          "execution_count": 35
        }
      ]
    },
    {
      "cell_type": "code",
      "source": [],
      "metadata": {
        "id": "ldXQPSIrq9L5"
      },
      "execution_count": null,
      "outputs": []
    }
  ]
}